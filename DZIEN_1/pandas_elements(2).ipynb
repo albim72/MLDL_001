{
 "cells": [
  {
   "cell_type": "code",
   "execution_count": 1,
   "id": "a4ac3004-e42b-4776-82ec-7d0515004063",
   "metadata": {},
   "outputs": [
    {
     "name": "stdout",
     "output_type": "stream",
     "text": [
      "Collecting pandas\n",
      "  Downloading pandas-2.2.0-cp312-cp312-win_amd64.whl.metadata (19 kB)\n",
      "Requirement already satisfied: numpy<2,>=1.26.0 in c:\\users\\marci\\appdata\\local\\programs\\python\\python312\\lib\\site-packages (from pandas) (1.26.3)\n",
      "Requirement already satisfied: python-dateutil>=2.8.2 in c:\\users\\marci\\appdata\\local\\programs\\python\\python312\\lib\\site-packages (from pandas) (2.8.2)\n",
      "Collecting pytz>=2020.1 (from pandas)\n",
      "  Downloading pytz-2023.4-py2.py3-none-any.whl.metadata (22 kB)\n",
      "Collecting tzdata>=2022.7 (from pandas)\n",
      "  Downloading tzdata-2023.4-py2.py3-none-any.whl.metadata (1.4 kB)\n",
      "Requirement already satisfied: six>=1.5 in c:\\users\\marci\\appdata\\local\\programs\\python\\python312\\lib\\site-packages (from python-dateutil>=2.8.2->pandas) (1.16.0)\n",
      "Downloading pandas-2.2.0-cp312-cp312-win_amd64.whl (11.5 MB)\n",
      "   ---------------------------------------- 0.0/11.5 MB ? eta -:--:--\n",
      "   ---------------------------------------- 0.0/11.5 MB 1.3 MB/s eta 0:00:09\n",
      "    --------------------------------------- 0.2/11.5 MB 2.6 MB/s eta 0:00:05\n",
      "   - -------------------------------------- 0.5/11.5 MB 4.5 MB/s eta 0:00:03\n",
      "   --- ------------------------------------ 1.1/11.5 MB 7.0 MB/s eta 0:00:02\n",
      "   ------ --------------------------------- 2.0/11.5 MB 9.8 MB/s eta 0:00:01\n",
      "   ---------- ----------------------------- 2.9/11.5 MB 11.5 MB/s eta 0:00:01\n",
      "   --------------- ------------------------ 4.4/11.5 MB 14.7 MB/s eta 0:00:01\n",
      "   -------------------- ------------------- 5.8/11.5 MB 16.9 MB/s eta 0:00:01\n",
      "   ------------------------ --------------- 7.1/11.5 MB 18.2 MB/s eta 0:00:01\n",
      "   ----------------------------- ---------- 8.6/11.5 MB 19.5 MB/s eta 0:00:01\n",
      "   -------------------------------- ------- 9.3/11.5 MB 19.9 MB/s eta 0:00:01\n",
      "   ---------------------------------------  11.5/11.5 MB 28.4 MB/s eta 0:00:01\n",
      "   ---------------------------------------- 11.5/11.5 MB 25.2 MB/s eta 0:00:00\n",
      "Downloading pytz-2023.4-py2.py3-none-any.whl (506 kB)\n",
      "   ---------------------------------------- 0.0/506.5 kB ? eta -:--:--\n",
      "   --------------------------------------- 506.5/506.5 kB 31.0 MB/s eta 0:00:00\n",
      "Downloading tzdata-2023.4-py2.py3-none-any.whl (346 kB)\n",
      "   ---------------------------------------- 0.0/346.6 kB ? eta -:--:--\n",
      "   --------------------------------------- 346.6/346.6 kB 21.0 MB/s eta 0:00:00\n",
      "Installing collected packages: pytz, tzdata, pandas\n",
      "Successfully installed pandas-2.2.0 pytz-2023.4 tzdata-2023.4\n",
      "Requirement already satisfied: numpy in c:\\users\\marci\\appdata\\local\\programs\\python\\python312\\lib\\site-packages (1.26.3)\n"
     ]
    }
   ],
   "source": [
    "!pip install pandas\n",
    "!pip install numpy"
   ]
  },
  {
   "cell_type": "code",
   "execution_count": 3,
   "id": "fc05a520-9982-4619-b0a1-c87cde6cdc03",
   "metadata": {},
   "outputs": [],
   "source": [
    "import numpy as np\n",
    "import pandas as pd"
   ]
  },
  {
   "cell_type": "code",
   "execution_count": 4,
   "id": "a77d02a9-ae06-4543-b33d-9eb4147083ab",
   "metadata": {},
   "outputs": [
    {
     "data": {
      "text/plain": [
       "a     5\n",
       "b    -7\n",
       "c     8\n",
       "d     3\n",
       "n    45\n",
       "z    32\n",
       "dtype: int64"
      ]
     },
     "execution_count": 4,
     "metadata": {},
     "output_type": "execute_result"
    }
   ],
   "source": [
    "s1 = pd.Series([5,-7,8,3,45,32], index=['a','b','c','d','n','z'])\n",
    "s1"
   ]
  },
  {
   "cell_type": "code",
   "execution_count": 6,
   "id": "3ebba368-e3f5-49a6-96bc-dc69e45e8722",
   "metadata": {},
   "outputs": [
    {
     "data": {
      "text/plain": [
       "Warszawa    455\n",
       "Lublin      410\n",
       "Kraków      426\n",
       "dtype: int64"
      ]
     },
     "execution_count": 6,
     "metadata": {},
     "output_type": "execute_result"
    }
   ],
   "source": [
    "sdata = {'Warszawa':455,'Lublin':410,'Kraków':426}\n",
    "s2 = pd.Series(sdata)\n",
    "s2"
   ]
  },
  {
   "cell_type": "code",
   "execution_count": 7,
   "id": "aa310939-da72-46ac-b394-b3c2fa4f9797",
   "metadata": {},
   "outputs": [
    {
     "name": "stdout",
     "output_type": "stream",
     "text": [
      "<class 'dict'>\n"
     ]
    }
   ],
   "source": [
    "print(type(sdata))"
   ]
  },
  {
   "cell_type": "code",
   "execution_count": 8,
   "id": "45cecf53-01fd-41d7-a8a6-38df793296ab",
   "metadata": {},
   "outputs": [
    {
     "name": "stdout",
     "output_type": "stream",
     "text": [
      "<class 'pandas.core.series.Series'>\n"
     ]
    }
   ],
   "source": [
    "print(type(s2))"
   ]
  },
  {
   "cell_type": "code",
   "execution_count": 9,
   "id": "91b8275c-068a-4122-ad72-9c8819d9209e",
   "metadata": {},
   "outputs": [
    {
     "data": {
      "text/html": [
       "<div>\n",
       "<style scoped>\n",
       "    .dataframe tbody tr th:only-of-type {\n",
       "        vertical-align: middle;\n",
       "    }\n",
       "\n",
       "    .dataframe tbody tr th {\n",
       "        vertical-align: top;\n",
       "    }\n",
       "\n",
       "    .dataframe thead th {\n",
       "        text-align: right;\n",
       "    }\n",
       "</style>\n",
       "<table border=\"1\" class=\"dataframe\">\n",
       "  <thead>\n",
       "    <tr style=\"text-align: right;\">\n",
       "      <th></th>\n",
       "      <th>miasto</th>\n",
       "      <th>wnioski</th>\n",
       "      <th>projekty</th>\n",
       "    </tr>\n",
       "  </thead>\n",
       "  <tbody>\n",
       "    <tr>\n",
       "      <th>pierwszy</th>\n",
       "      <td>Wrocław</td>\n",
       "      <td>567</td>\n",
       "      <td>6</td>\n",
       "    </tr>\n",
       "    <tr>\n",
       "      <th>drugi</th>\n",
       "      <td>Poznań</td>\n",
       "      <td>345</td>\n",
       "      <td>7</td>\n",
       "    </tr>\n",
       "    <tr>\n",
       "      <th>treci</th>\n",
       "      <td>Gdańsk</td>\n",
       "      <td>234</td>\n",
       "      <td>4</td>\n",
       "    </tr>\n",
       "    <tr>\n",
       "      <th>czwarty</th>\n",
       "      <td>Katowice</td>\n",
       "      <td>467</td>\n",
       "      <td>3</td>\n",
       "    </tr>\n",
       "  </tbody>\n",
       "</table>\n",
       "</div>"
      ],
      "text/plain": [
       "            miasto  wnioski  projekty\n",
       "pierwszy   Wrocław      567         6\n",
       "drugi       Poznań      345         7\n",
       "treci       Gdańsk      234         4\n",
       "czwarty   Katowice      467         3"
      ]
     },
     "execution_count": 9,
     "metadata": {},
     "output_type": "execute_result"
    }
   ],
   "source": [
    "data = {\n",
    "    'miasto':['Wrocław','Poznań','Gdańsk','Katowice'],\n",
    "    'wnioski':[567,345,234,467],\n",
    "    'projekty':[6,7,4,3]\n",
    "}\n",
    "\n",
    "frame = pd.DataFrame(data,index=['pierwszy','drugi','treci','czwarty'])\n",
    "frame"
   ]
  },
  {
   "cell_type": "code",
   "execution_count": 16,
   "id": "9d87bf04-af2e-4257-a36c-f69bbb94f666",
   "metadata": {},
   "outputs": [
    {
     "data": {
      "text/plain": [
       "DatetimeIndex(['2024-01-30', '2024-01-31', '2024-02-01', '2024-02-02',\n",
       "               '2024-02-03', '2024-02-04'],\n",
       "              dtype='datetime64[ns]', freq='D')"
      ]
     },
     "execution_count": 16,
     "metadata": {},
     "output_type": "execute_result"
    }
   ],
   "source": [
    "daty = pd.date_range(\"20240130\",periods=6)\n",
    "daty"
   ]
  },
  {
   "cell_type": "code",
   "execution_count": 17,
   "id": "ed00ad06-0bda-4dd5-844c-de565e82f4f2",
   "metadata": {},
   "outputs": [
    {
     "data": {
      "text/html": [
       "<div>\n",
       "<style scoped>\n",
       "    .dataframe tbody tr th:only-of-type {\n",
       "        vertical-align: middle;\n",
       "    }\n",
       "\n",
       "    .dataframe tbody tr th {\n",
       "        vertical-align: top;\n",
       "    }\n",
       "\n",
       "    .dataframe thead th {\n",
       "        text-align: right;\n",
       "    }\n",
       "</style>\n",
       "<table border=\"1\" class=\"dataframe\">\n",
       "  <thead>\n",
       "    <tr style=\"text-align: right;\">\n",
       "      <th></th>\n",
       "      <th>A</th>\n",
       "      <th>B</th>\n",
       "      <th>C</th>\n",
       "      <th>D</th>\n",
       "    </tr>\n",
       "  </thead>\n",
       "  <tbody>\n",
       "    <tr>\n",
       "      <th>2024-01-30</th>\n",
       "      <td>0.325267</td>\n",
       "      <td>0.705972</td>\n",
       "      <td>-0.709551</td>\n",
       "      <td>-0.162261</td>\n",
       "    </tr>\n",
       "    <tr>\n",
       "      <th>2024-01-31</th>\n",
       "      <td>0.642974</td>\n",
       "      <td>-1.847486</td>\n",
       "      <td>1.255234</td>\n",
       "      <td>-0.667458</td>\n",
       "    </tr>\n",
       "    <tr>\n",
       "      <th>2024-02-01</th>\n",
       "      <td>-0.415349</td>\n",
       "      <td>1.973889</td>\n",
       "      <td>-2.070768</td>\n",
       "      <td>0.477792</td>\n",
       "    </tr>\n",
       "    <tr>\n",
       "      <th>2024-02-02</th>\n",
       "      <td>-1.120124</td>\n",
       "      <td>-0.176295</td>\n",
       "      <td>0.047303</td>\n",
       "      <td>-0.578774</td>\n",
       "    </tr>\n",
       "    <tr>\n",
       "      <th>2024-02-03</th>\n",
       "      <td>-0.060630</td>\n",
       "      <td>1.908926</td>\n",
       "      <td>-0.797544</td>\n",
       "      <td>1.651735</td>\n",
       "    </tr>\n",
       "    <tr>\n",
       "      <th>2024-02-04</th>\n",
       "      <td>-0.024373</td>\n",
       "      <td>-0.483354</td>\n",
       "      <td>-0.675883</td>\n",
       "      <td>2.075819</td>\n",
       "    </tr>\n",
       "  </tbody>\n",
       "</table>\n",
       "</div>"
      ],
      "text/plain": [
       "                   A         B         C         D\n",
       "2024-01-30  0.325267  0.705972 -0.709551 -0.162261\n",
       "2024-01-31  0.642974 -1.847486  1.255234 -0.667458\n",
       "2024-02-01 -0.415349  1.973889 -2.070768  0.477792\n",
       "2024-02-02 -1.120124 -0.176295  0.047303 -0.578774\n",
       "2024-02-03 -0.060630  1.908926 -0.797544  1.651735\n",
       "2024-02-04 -0.024373 -0.483354 -0.675883  2.075819"
      ]
     },
     "execution_count": 17,
     "metadata": {},
     "output_type": "execute_result"
    }
   ],
   "source": [
    "df = pd.DataFrame(np.random.randn(6,4),index=daty,columns=list('ABCD'))\n",
    "df"
   ]
  },
  {
   "cell_type": "code",
   "execution_count": null,
   "id": "3dc712b1-17b0-4e8a-843e-0f06bdffe1c2",
   "metadata": {},
   "outputs": [],
   "source": []
  }
 ],
 "metadata": {
  "kernelspec": {
   "display_name": "Python 3 (ipykernel)",
   "language": "python",
   "name": "python3"
  },
  "language_info": {
   "codemirror_mode": {
    "name": "ipython",
    "version": 3
   },
   "file_extension": ".py",
   "mimetype": "text/x-python",
   "name": "python",
   "nbconvert_exporter": "python",
   "pygments_lexer": "ipython3",
   "version": "3.12.1"
  }
 },
 "nbformat": 4,
 "nbformat_minor": 5
}
