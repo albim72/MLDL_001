{
 "cells": [
  {
   "cell_type": "code",
   "execution_count": 3,
   "id": "4e085a31-6f18-409b-bd70-a5f4eabaf170",
   "metadata": {},
   "outputs": [],
   "source": [
    "import numpy as np"
   ]
  },
  {
   "cell_type": "code",
   "execution_count": 2,
   "id": "f88151e5-8a01-40c8-9388-378430e2b76b",
   "metadata": {},
   "outputs": [
    {
     "name": "stdout",
     "output_type": "stream",
     "text": [
      "Collecting numpy\n",
      "  Obtaining dependency information for numpy from https://files.pythonhosted.org/packages/ad/11/52fbe97fd84c91105b651d25a122f8deed6d3519afb14f9771fac1c9b7de/numpy-1.26.3-cp312-cp312-win_amd64.whl.metadata\n",
      "  Downloading numpy-1.26.3-cp312-cp312-win_amd64.whl.metadata (61 kB)\n",
      "     ---------------------------------------- 0.0/61.2 kB ? eta -:--:--\n",
      "     ------ --------------------------------- 10.2/61.2 kB ? eta -:--:--\n",
      "     ------------ ------------------------- 20.5/61.2 kB 165.2 kB/s eta 0:00:01\n",
      "     ------------------- ------------------ 30.7/61.2 kB 187.9 kB/s eta 0:00:01\n",
      "     -------------------------------------- 61.2/61.2 kB 296.3 kB/s eta 0:00:00\n",
      "Downloading numpy-1.26.3-cp312-cp312-win_amd64.whl (15.5 MB)\n",
      "   ---------------------------------------- 0.0/15.5 MB ? eta -:--:--\n",
      "   ---------------------------------------- 0.1/15.5 MB 2.0 MB/s eta 0:00:08\n",
      "    --------------------------------------- 0.3/15.5 MB 4.1 MB/s eta 0:00:04\n",
      "   -- ------------------------------------- 1.0/15.5 MB 7.5 MB/s eta 0:00:02\n",
      "   --- ------------------------------------ 1.5/15.5 MB 8.7 MB/s eta 0:00:02\n",
      "   ------ --------------------------------- 2.6/15.5 MB 11.7 MB/s eta 0:00:02\n",
      "   ---------- ----------------------------- 4.1/15.5 MB 15.5 MB/s eta 0:00:01\n",
      "   -------------- ------------------------- 5.7/15.5 MB 18.3 MB/s eta 0:00:01\n",
      "   ----------------- ---------------------- 6.8/15.5 MB 18.9 MB/s eta 0:00:01\n",
      "   -------------------- ------------------- 8.1/15.5 MB 20.0 MB/s eta 0:00:01\n",
      "   ---------------------- ----------------- 8.8/15.5 MB 19.3 MB/s eta 0:00:01\n",
      "   -------------------------- ------------- 10.2/15.5 MB 20.3 MB/s eta 0:00:01\n",
      "   ------------------------------ --------- 11.6/15.5 MB 28.5 MB/s eta 0:00:01\n",
      "   -------------------------------- ------- 12.6/15.5 MB 26.2 MB/s eta 0:00:01\n",
      "   ------------------------------------ --- 14.0/15.5 MB 27.3 MB/s eta 0:00:01\n",
      "   ---------------------------------------  15.2/15.5 MB 26.2 MB/s eta 0:00:01\n",
      "   ---------------------------------------  15.5/15.5 MB 26.2 MB/s eta 0:00:01\n",
      "   ---------------------------------------- 15.5/15.5 MB 21.8 MB/s eta 0:00:00\n",
      "Installing collected packages: numpy\n",
      "Successfully installed numpy-1.26.3\n"
     ]
    },
    {
     "name": "stderr",
     "output_type": "stream",
     "text": [
      "\n",
      "[notice] A new release of pip is available: 23.2.1 -> 23.3.2\n",
      "[notice] To update, run: python.exe -m pip install --upgrade pip\n"
     ]
    }
   ],
   "source": [
    "!pip install numpy"
   ]
  },
  {
   "cell_type": "code",
   "execution_count": 4,
   "id": "121a0721-5f6b-4401-939d-f5c4d2626354",
   "metadata": {},
   "outputs": [
    {
     "name": "stdout",
     "output_type": "stream",
     "text": [
      "Requirement already satisfied: pip in c:\\users\\marci\\appdata\\local\\programs\\python\\python312\\lib\\site-packages (23.2.1)\n",
      "Collecting pip\n",
      "  Obtaining dependency information for pip from https://files.pythonhosted.org/packages/15/aa/3f4c7bcee2057a76562a5b33ecbd199be08cdb4443a02e26bd2c3cf6fc39/pip-23.3.2-py3-none-any.whl.metadata\n",
      "  Using cached pip-23.3.2-py3-none-any.whl.metadata (3.5 kB)\n",
      "Using cached pip-23.3.2-py3-none-any.whl (2.1 MB)\n",
      "Installing collected packages: pip\n",
      "  Attempting uninstall: pip\n",
      "    Found existing installation: pip 23.2.1\n",
      "    Uninstalling pip-23.2.1:\n",
      "      Successfully uninstalled pip-23.2.1\n",
      "Successfully installed pip-23.3.2\n"
     ]
    }
   ],
   "source": [
    "!python.exe -m pip install --upgrade pip"
   ]
  },
  {
   "cell_type": "code",
   "execution_count": 5,
   "id": "8847efcd-d0b6-41eb-b6d3-14bc2caf6caf",
   "metadata": {},
   "outputs": [],
   "source": [
    "wektor = np.array([5,2,6,8,4,79,4])"
   ]
  },
  {
   "cell_type": "code",
   "execution_count": 6,
   "id": "0458d649-2c63-47ee-825d-f4802e5aaf4c",
   "metadata": {},
   "outputs": [
    {
     "data": {
      "text/plain": [
       "array([ 5,  2,  6,  8,  4, 79,  4])"
      ]
     },
     "execution_count": 6,
     "metadata": {},
     "output_type": "execute_result"
    }
   ],
   "source": [
    "wektor"
   ]
  },
  {
   "cell_type": "code",
   "execution_count": 7,
   "id": "de8122d7-d402-444e-a9fe-6cae78f3382f",
   "metadata": {},
   "outputs": [
    {
     "name": "stdout",
     "output_type": "stream",
     "text": [
      "<class 'numpy.ndarray'>\n"
     ]
    }
   ],
   "source": [
    "print(type(wektor))"
   ]
  },
  {
   "cell_type": "code",
   "execution_count": 10,
   "id": "5923f3a2-2fcf-45f5-b7f5-410f8332c9b0",
   "metadata": {},
   "outputs": [],
   "source": [
    "nb = [43,6,2,478,9,58,6]"
   ]
  },
  {
   "cell_type": "code",
   "execution_count": 11,
   "id": "4c076e8f-c0d5-4ef8-a7f4-de42e64887ca",
   "metadata": {},
   "outputs": [],
   "source": [
    "nb = nb + wektor"
   ]
  },
  {
   "cell_type": "code",
   "execution_count": 12,
   "id": "bf9cbdc5-7f1b-47c4-8d72-43549fef82ed",
   "metadata": {},
   "outputs": [
    {
     "data": {
      "text/plain": [
       "array([ 48,   8,   8, 486,  13, 137,  10])"
      ]
     },
     "execution_count": 12,
     "metadata": {},
     "output_type": "execute_result"
    }
   ],
   "source": [
    "nb"
   ]
  },
  {
   "cell_type": "code",
   "execution_count": null,
   "id": "df8718f3-16e5-44ef-9e43-16fa8f8f9d1b",
   "metadata": {},
   "outputs": [],
   "source": []
  },
  {
   "cell_type": "markdown",
   "id": "b634d2f3-2fee-4643-b381-6e04882469e5",
   "metadata": {},
   "source": [
    "macierz = np.array([[1,2,3,4],[9,10,11,12],[34,56,74,37]])\n",
    "macierz"
   ]
  },
  {
   "cell_type": "code",
   "execution_count": 14,
   "id": "ceeb7ecf-c79c-4180-b951-3b68025ce4f4",
   "metadata": {},
   "outputs": [
    {
     "data": {
      "text/plain": [
       "array([ 9, 10, 11, 12])"
      ]
     },
     "execution_count": 14,
     "metadata": {},
     "output_type": "execute_result"
    }
   ],
   "source": [
    "macierz[1]"
   ]
  },
  {
   "cell_type": "code",
   "execution_count": 15,
   "id": "8700cd03-0b18-47db-8090-5889b5452f1c",
   "metadata": {},
   "outputs": [
    {
     "data": {
      "text/plain": [
       "9"
      ]
     },
     "execution_count": 15,
     "metadata": {},
     "output_type": "execute_result"
    }
   ],
   "source": [
    "macierz[1][0]"
   ]
  },
  {
   "cell_type": "code",
   "execution_count": 17,
   "id": "f81be172-8b55-4ea5-85e6-dd5720836e97",
   "metadata": {},
   "outputs": [
    {
     "data": {
      "text/plain": [
       "9"
      ]
     },
     "execution_count": 17,
     "metadata": {},
     "output_type": "execute_result"
    }
   ],
   "source": [
    "macierz[1,0]"
   ]
  },
  {
   "cell_type": "code",
   "execution_count": 18,
   "id": "570d8c8f-2221-4f32-bd43-e04013024db6",
   "metadata": {},
   "outputs": [],
   "source": [
    "listm = [[5,2,6],[8,43,2],[8,42,2]]"
   ]
  },
  {
   "cell_type": "code",
   "execution_count": 19,
   "id": "62db25bc-2e29-4a4a-9b4a-b82a727c305c",
   "metadata": {},
   "outputs": [
    {
     "data": {
      "text/plain": [
       "8"
      ]
     },
     "execution_count": 19,
     "metadata": {},
     "output_type": "execute_result"
    }
   ],
   "source": [
    "listm[1][0]"
   ]
  },
  {
   "cell_type": "code",
   "execution_count": 21,
   "id": "7d673d33-a0e7-4cb8-804d-a27e5f514774",
   "metadata": {},
   "outputs": [
    {
     "data": {
      "text/plain": [
       "array([1, 2, 3, 4])"
      ]
     },
     "execution_count": 21,
     "metadata": {},
     "output_type": "execute_result"
    }
   ],
   "source": [
    "macierz[macierz<5]"
   ]
  },
  {
   "cell_type": "code",
   "execution_count": 22,
   "id": "08c45ba5-510e-4d0e-b34d-f2771b3095d0",
   "metadata": {},
   "outputs": [
    {
     "data": {
      "text/plain": [
       "array([ 9, 10, 11, 12, 34, 56, 74, 37])"
      ]
     },
     "execution_count": 22,
     "metadata": {},
     "output_type": "execute_result"
    }
   ],
   "source": [
    "pc = (macierz>5)\n",
    "macierz[pc]"
   ]
  },
  {
   "cell_type": "code",
   "execution_count": 23,
   "id": "4b3f8c5d-27b2-4615-9ce1-443ec306c7c4",
   "metadata": {},
   "outputs": [
    {
     "data": {
      "text/plain": [
       "array([ 2,  4, 10, 12, 34, 56, 74])"
      ]
     },
     "execution_count": 23,
     "metadata": {},
     "output_type": "execute_result"
    }
   ],
   "source": [
    "lw = (macierz%2==0)\n",
    "macierz[lw]"
   ]
  },
  {
   "cell_type": "code",
   "execution_count": 24,
   "id": "07289346-d7df-44e9-b6ea-27753a7f20fa",
   "metadata": {},
   "outputs": [
    {
     "data": {
      "text/plain": [
       "array([ 3,  4,  9, 10, 11, 12])"
      ]
     },
     "execution_count": 24,
     "metadata": {},
     "output_type": "execute_result"
    }
   ],
   "source": [
    "cv = macierz[(macierz>2)&(macierz<=21)]\n",
    "cv"
   ]
  },
  {
   "cell_type": "code",
   "execution_count": null,
   "id": "ad4e05ad-8ad5-40bf-bb01-26dfb09c1091",
   "metadata": {},
   "outputs": [],
   "source": []
  },
  {
   "cell_type": "code",
   "execution_count": null,
   "id": "a0b76751-5e49-4bc5-8cb9-3bce2d9f2298",
   "metadata": {},
   "outputs": [],
   "source": []
  }
 ],
 "metadata": {
  "kernelspec": {
   "display_name": "Python 3 (ipykernel)",
   "language": "python",
   "name": "python3"
  },
  "language_info": {
   "codemirror_mode": {
    "name": "ipython",
    "version": 3
   },
   "file_extension": ".py",
   "mimetype": "text/x-python",
   "name": "python",
   "nbconvert_exporter": "python",
   "pygments_lexer": "ipython3",
   "version": "3.12.1"
  }
 },
 "nbformat": 4,
 "nbformat_minor": 5
}
