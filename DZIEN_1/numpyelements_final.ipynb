{
 "cells": [
  {
   "cell_type": "code",
   "execution_count": 3,
   "id": "4e085a31-6f18-409b-bd70-a5f4eabaf170",
   "metadata": {},
   "outputs": [],
   "source": [
    "import numpy as np"
   ]
  },
  {
   "cell_type": "code",
   "execution_count": 2,
   "id": "f88151e5-8a01-40c8-9388-378430e2b76b",
   "metadata": {},
   "outputs": [
    {
     "name": "stdout",
     "output_type": "stream",
     "text": [
      "Collecting numpy\n",
      "  Obtaining dependency information for numpy from https://files.pythonhosted.org/packages/ad/11/52fbe97fd84c91105b651d25a122f8deed6d3519afb14f9771fac1c9b7de/numpy-1.26.3-cp312-cp312-win_amd64.whl.metadata\n",
      "  Downloading numpy-1.26.3-cp312-cp312-win_amd64.whl.metadata (61 kB)\n",
      "     ---------------------------------------- 0.0/61.2 kB ? eta -:--:--\n",
      "     ------ --------------------------------- 10.2/61.2 kB ? eta -:--:--\n",
      "     ------------ ------------------------- 20.5/61.2 kB 165.2 kB/s eta 0:00:01\n",
      "     ------------------- ------------------ 30.7/61.2 kB 187.9 kB/s eta 0:00:01\n",
      "     -------------------------------------- 61.2/61.2 kB 296.3 kB/s eta 0:00:00\n",
      "Downloading numpy-1.26.3-cp312-cp312-win_amd64.whl (15.5 MB)\n",
      "   ---------------------------------------- 0.0/15.5 MB ? eta -:--:--\n",
      "   ---------------------------------------- 0.1/15.5 MB 2.0 MB/s eta 0:00:08\n",
      "    --------------------------------------- 0.3/15.5 MB 4.1 MB/s eta 0:00:04\n",
      "   -- ------------------------------------- 1.0/15.5 MB 7.5 MB/s eta 0:00:02\n",
      "   --- ------------------------------------ 1.5/15.5 MB 8.7 MB/s eta 0:00:02\n",
      "   ------ --------------------------------- 2.6/15.5 MB 11.7 MB/s eta 0:00:02\n",
      "   ---------- ----------------------------- 4.1/15.5 MB 15.5 MB/s eta 0:00:01\n",
      "   -------------- ------------------------- 5.7/15.5 MB 18.3 MB/s eta 0:00:01\n",
      "   ----------------- ---------------------- 6.8/15.5 MB 18.9 MB/s eta 0:00:01\n",
      "   -------------------- ------------------- 8.1/15.5 MB 20.0 MB/s eta 0:00:01\n",
      "   ---------------------- ----------------- 8.8/15.5 MB 19.3 MB/s eta 0:00:01\n",
      "   -------------------------- ------------- 10.2/15.5 MB 20.3 MB/s eta 0:00:01\n",
      "   ------------------------------ --------- 11.6/15.5 MB 28.5 MB/s eta 0:00:01\n",
      "   -------------------------------- ------- 12.6/15.5 MB 26.2 MB/s eta 0:00:01\n",
      "   ------------------------------------ --- 14.0/15.5 MB 27.3 MB/s eta 0:00:01\n",
      "   ---------------------------------------  15.2/15.5 MB 26.2 MB/s eta 0:00:01\n",
      "   ---------------------------------------  15.5/15.5 MB 26.2 MB/s eta 0:00:01\n",
      "   ---------------------------------------- 15.5/15.5 MB 21.8 MB/s eta 0:00:00\n",
      "Installing collected packages: numpy\n",
      "Successfully installed numpy-1.26.3\n"
     ]
    },
    {
     "name": "stderr",
     "output_type": "stream",
     "text": [
      "\n",
      "[notice] A new release of pip is available: 23.2.1 -> 23.3.2\n",
      "[notice] To update, run: python.exe -m pip install --upgrade pip\n"
     ]
    }
   ],
   "source": [
    "!pip install numpy"
   ]
  },
  {
   "cell_type": "code",
   "execution_count": 4,
   "id": "121a0721-5f6b-4401-939d-f5c4d2626354",
   "metadata": {},
   "outputs": [
    {
     "name": "stdout",
     "output_type": "stream",
     "text": [
      "Requirement already satisfied: pip in c:\\users\\marci\\appdata\\local\\programs\\python\\python312\\lib\\site-packages (23.2.1)\n",
      "Collecting pip\n",
      "  Obtaining dependency information for pip from https://files.pythonhosted.org/packages/15/aa/3f4c7bcee2057a76562a5b33ecbd199be08cdb4443a02e26bd2c3cf6fc39/pip-23.3.2-py3-none-any.whl.metadata\n",
      "  Using cached pip-23.3.2-py3-none-any.whl.metadata (3.5 kB)\n",
      "Using cached pip-23.3.2-py3-none-any.whl (2.1 MB)\n",
      "Installing collected packages: pip\n",
      "  Attempting uninstall: pip\n",
      "    Found existing installation: pip 23.2.1\n",
      "    Uninstalling pip-23.2.1:\n",
      "      Successfully uninstalled pip-23.2.1\n",
      "Successfully installed pip-23.3.2\n"
     ]
    }
   ],
   "source": [
    "!python.exe -m pip install --upgrade pip"
   ]
  },
  {
   "cell_type": "code",
   "execution_count": 5,
   "id": "8847efcd-d0b6-41eb-b6d3-14bc2caf6caf",
   "metadata": {},
   "outputs": [],
   "source": [
    "wektor = np.array([5,2,6,8,4,79,4])"
   ]
  },
  {
   "cell_type": "code",
   "execution_count": 6,
   "id": "0458d649-2c63-47ee-825d-f4802e5aaf4c",
   "metadata": {},
   "outputs": [
    {
     "data": {
      "text/plain": [
       "array([ 5,  2,  6,  8,  4, 79,  4])"
      ]
     },
     "execution_count": 6,
     "metadata": {},
     "output_type": "execute_result"
    }
   ],
   "source": [
    "wektor"
   ]
  },
  {
   "cell_type": "code",
   "execution_count": 7,
   "id": "de8122d7-d402-444e-a9fe-6cae78f3382f",
   "metadata": {},
   "outputs": [
    {
     "name": "stdout",
     "output_type": "stream",
     "text": [
      "<class 'numpy.ndarray'>\n"
     ]
    }
   ],
   "source": [
    "print(type(wektor))"
   ]
  },
  {
   "cell_type": "code",
   "execution_count": 10,
   "id": "5923f3a2-2fcf-45f5-b7f5-410f8332c9b0",
   "metadata": {},
   "outputs": [],
   "source": [
    "nb = [43,6,2,478,9,58,6]"
   ]
  },
  {
   "cell_type": "code",
   "execution_count": 11,
   "id": "4c076e8f-c0d5-4ef8-a7f4-de42e64887ca",
   "metadata": {},
   "outputs": [],
   "source": [
    "nb = nb + wektor"
   ]
  },
  {
   "cell_type": "code",
   "execution_count": 12,
   "id": "bf9cbdc5-7f1b-47c4-8d72-43549fef82ed",
   "metadata": {},
   "outputs": [
    {
     "data": {
      "text/plain": [
       "array([ 48,   8,   8, 486,  13, 137,  10])"
      ]
     },
     "execution_count": 12,
     "metadata": {},
     "output_type": "execute_result"
    }
   ],
   "source": [
    "nb"
   ]
  },
  {
   "cell_type": "code",
   "execution_count": null,
   "id": "df8718f3-16e5-44ef-9e43-16fa8f8f9d1b",
   "metadata": {},
   "outputs": [],
   "source": []
  },
  {
   "cell_type": "markdown",
   "id": "b634d2f3-2fee-4643-b381-6e04882469e5",
   "metadata": {},
   "source": [
    "macierz = np.array([[1,2,3,4],[9,10,11,12],[34,56,74,37]])\n",
    "macierz"
   ]
  },
  {
   "cell_type": "code",
   "execution_count": 14,
   "id": "ceeb7ecf-c79c-4180-b951-3b68025ce4f4",
   "metadata": {},
   "outputs": [
    {
     "data": {
      "text/plain": [
       "array([ 9, 10, 11, 12])"
      ]
     },
     "execution_count": 14,
     "metadata": {},
     "output_type": "execute_result"
    }
   ],
   "source": [
    "macierz[1]"
   ]
  },
  {
   "cell_type": "code",
   "execution_count": 15,
   "id": "8700cd03-0b18-47db-8090-5889b5452f1c",
   "metadata": {},
   "outputs": [
    {
     "data": {
      "text/plain": [
       "9"
      ]
     },
     "execution_count": 15,
     "metadata": {},
     "output_type": "execute_result"
    }
   ],
   "source": [
    "macierz[1][0]"
   ]
  },
  {
   "cell_type": "code",
   "execution_count": 17,
   "id": "f81be172-8b55-4ea5-85e6-dd5720836e97",
   "metadata": {},
   "outputs": [
    {
     "data": {
      "text/plain": [
       "9"
      ]
     },
     "execution_count": 17,
     "metadata": {},
     "output_type": "execute_result"
    }
   ],
   "source": [
    "macierz[1,0]"
   ]
  },
  {
   "cell_type": "code",
   "execution_count": 18,
   "id": "570d8c8f-2221-4f32-bd43-e04013024db6",
   "metadata": {},
   "outputs": [],
   "source": [
    "listm = [[5,2,6],[8,43,2],[8,42,2]]"
   ]
  },
  {
   "cell_type": "code",
   "execution_count": 19,
   "id": "62db25bc-2e29-4a4a-9b4a-b82a727c305c",
   "metadata": {},
   "outputs": [
    {
     "data": {
      "text/plain": [
       "8"
      ]
     },
     "execution_count": 19,
     "metadata": {},
     "output_type": "execute_result"
    }
   ],
   "source": [
    "listm[1][0]"
   ]
  },
  {
   "cell_type": "code",
   "execution_count": 21,
   "id": "7d673d33-a0e7-4cb8-804d-a27e5f514774",
   "metadata": {},
   "outputs": [
    {
     "data": {
      "text/plain": [
       "array([1, 2, 3, 4])"
      ]
     },
     "execution_count": 21,
     "metadata": {},
     "output_type": "execute_result"
    }
   ],
   "source": [
    "macierz[macierz<5]"
   ]
  },
  {
   "cell_type": "code",
   "execution_count": 22,
   "id": "08c45ba5-510e-4d0e-b34d-f2771b3095d0",
   "metadata": {},
   "outputs": [
    {
     "data": {
      "text/plain": [
       "array([ 9, 10, 11, 12, 34, 56, 74, 37])"
      ]
     },
     "execution_count": 22,
     "metadata": {},
     "output_type": "execute_result"
    }
   ],
   "source": [
    "pc = (macierz>5)\n",
    "macierz[pc]"
   ]
  },
  {
   "cell_type": "code",
   "execution_count": 23,
   "id": "4b3f8c5d-27b2-4615-9ce1-443ec306c7c4",
   "metadata": {},
   "outputs": [
    {
     "data": {
      "text/plain": [
       "array([ 2,  4, 10, 12, 34, 56, 74])"
      ]
     },
     "execution_count": 23,
     "metadata": {},
     "output_type": "execute_result"
    }
   ],
   "source": [
    "lw = (macierz%2==0)\n",
    "macierz[lw]"
   ]
  },
  {
   "cell_type": "code",
   "execution_count": 24,
   "id": "07289346-d7df-44e9-b6ea-27753a7f20fa",
   "metadata": {},
   "outputs": [
    {
     "data": {
      "text/plain": [
       "array([ 3,  4,  9, 10, 11, 12])"
      ]
     },
     "execution_count": 24,
     "metadata": {},
     "output_type": "execute_result"
    }
   ],
   "source": [
    "cv = macierz[(macierz>2)&(macierz<=21)]\n",
    "cv"
   ]
  },
  {
   "cell_type": "code",
   "execution_count": 25,
   "id": "ad4e05ad-8ad5-40bf-bb01-26dfb09c1091",
   "metadata": {},
   "outputs": [],
   "source": [
    "dane = np.array([1,3,8])\n",
    "one = np.ones(3,dtype=int)\n",
    "tw = np.array([2,2,3])"
   ]
  },
  {
   "cell_type": "code",
   "execution_count": 26,
   "id": "39b9bb55-5f11-40ce-9813-712d91a0ce1a",
   "metadata": {},
   "outputs": [
    {
     "name": "stdout",
     "output_type": "stream",
     "text": [
      "[2 4 9]\n"
     ]
    }
   ],
   "source": [
    "print(dane+one)"
   ]
  },
  {
   "cell_type": "code",
   "execution_count": 27,
   "id": "d7791d11-5302-40f2-a063-1df3ae473479",
   "metadata": {},
   "outputs": [
    {
     "name": "stdout",
     "output_type": "stream",
     "text": [
      "[0 2 7]\n"
     ]
    }
   ],
   "source": [
    "print(dane-one)"
   ]
  },
  {
   "cell_type": "code",
   "execution_count": 28,
   "id": "922446d7-2f81-48ac-9bee-e26776319c95",
   "metadata": {},
   "outputs": [
    {
     "name": "stdout",
     "output_type": "stream",
     "text": [
      "[ 2  6 24]\n"
     ]
    }
   ],
   "source": [
    "print(dane*tw)"
   ]
  },
  {
   "cell_type": "code",
   "execution_count": 29,
   "id": "264365a0-ea1e-4870-a464-ee830512d82a",
   "metadata": {},
   "outputs": [
    {
     "name": "stdout",
     "output_type": "stream",
     "text": [
      "[0.5        1.5        2.66666667]\n"
     ]
    }
   ],
   "source": [
    "print(dane/tw)"
   ]
  },
  {
   "cell_type": "code",
   "execution_count": 30,
   "id": "598447fc-27ab-4b6c-b4a8-e521bb1aace3",
   "metadata": {},
   "outputs": [
    {
     "name": "stdout",
     "output_type": "stream",
     "text": [
      "[ 1.81  5.43 14.48]\n"
     ]
    }
   ],
   "source": [
    "print(dane*1.81)"
   ]
  },
  {
   "cell_type": "code",
   "execution_count": 32,
   "id": "844e974b-a988-49ab-ad60-563a0763f75c",
   "metadata": {},
   "outputs": [
    {
     "data": {
      "text/plain": [
       "array([[ 1968,   136,   154],\n",
       "       [ 6030, 19190,    18],\n",
       "       [    3,     5,  6776]])"
      ]
     },
     "execution_count": 32,
     "metadata": {},
     "output_type": "execute_result"
    }
   ],
   "source": [
    "m1 = np.array([[4,8,11],[67,101,3],[1,1,77]])\n",
    "m2 = np.array([[488,9,3],[23,89,3],[2,4,11]])\n",
    "wynik = (m1+m2)*m1\n",
    "wynik"
   ]
  },
  {
   "cell_type": "code",
   "execution_count": 33,
   "id": "6a8acaa2-6bb6-410d-8bb6-ed0e75c2488d",
   "metadata": {},
   "outputs": [
    {
     "name": "stdout",
     "output_type": "stream",
     "text": [
      "wartość minimum: 3\n",
      "wartość maximum: 19190\n",
      "wartość średnia: 3808.8888888888887\n",
      "wartość średnie odchyl std: 5998.870809381906\n"
     ]
    }
   ],
   "source": [
    "print(f'wartość minimum: {wynik.min()}')\n",
    "print(f'wartość maximum: {wynik.max()}')\n",
    "print(f'wartość średnia: {wynik.mean()}')\n",
    "print(f'wartość średnie odchyl std: {wynik.std()}')"
   ]
  },
  {
   "cell_type": "code",
   "execution_count": 40,
   "id": "7fa4c0ce-3f94-4bf4-808b-8ef1de64e383",
   "metadata": {},
   "outputs": [
    {
     "name": "stdout",
     "output_type": "stream",
     "text": [
      "[[ 0.97848768 -0.79043321 -0.06192034]\n",
      " [-0.95906951  0.91360831 -0.75098725]\n",
      " [ 0.14112001 -0.95892427  0.40351367]]\n"
     ]
    }
   ],
   "source": [
    "print(np.sin(wynik))"
   ]
  },
  {
   "cell_type": "code",
   "execution_count": 41,
   "id": "4a0a1bb6-63f3-470a-b677-ff08d28553b4",
   "metadata": {},
   "outputs": [
    {
     "ename": "TypeError",
     "evalue": "only length-1 arrays can be converted to Python scalars",
     "output_type": "error",
     "traceback": [
      "\u001b[1;31m---------------------------------------------------------------------------\u001b[0m",
      "\u001b[1;31mTypeError\u001b[0m                                 Traceback (most recent call last)",
      "Cell \u001b[1;32mIn[41], line 2\u001b[0m\n\u001b[0;32m      1\u001b[0m \u001b[38;5;28;01mimport\u001b[39;00m \u001b[38;5;21;01mmath\u001b[39;00m\n\u001b[1;32m----> 2\u001b[0m \u001b[38;5;28mprint\u001b[39m(\u001b[43mmath\u001b[49m\u001b[38;5;241;43m.\u001b[39;49m\u001b[43msin\u001b[49m\u001b[43m(\u001b[49m\u001b[43mwynik\u001b[49m\u001b[43m)\u001b[49m)\n",
      "\u001b[1;31mTypeError\u001b[0m: only length-1 arrays can be converted to Python scalars"
     ]
    }
   ],
   "source": [
    "# import math\n",
    "# print(math.sin(wynik))"
   ]
  },
  {
   "cell_type": "code",
   "execution_count": null,
   "id": "3a771bc5-1ee0-4f46-a111-48bdf53fb5ec",
   "metadata": {},
   "outputs": [],
   "source": []
  }
 ],
 "metadata": {
  "kernelspec": {
   "display_name": "Python 3 (ipykernel)",
   "language": "python",
   "name": "python3"
  },
  "language_info": {
   "codemirror_mode": {
    "name": "ipython",
    "version": 3
   },
   "file_extension": ".py",
   "mimetype": "text/x-python",
   "name": "python",
   "nbconvert_exporter": "python",
   "pygments_lexer": "ipython3",
   "version": "3.12.1"
  }
 },
 "nbformat": 4,
 "nbformat_minor": 5
}
