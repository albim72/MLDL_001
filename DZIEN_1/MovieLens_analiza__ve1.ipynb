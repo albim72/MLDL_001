{
 "cells":[
  {
   "cell_type":"code",
   "source":[
    "import pandas as pd"
   ],
   "execution_count":1,
   "outputs":[
    
   ],
   "metadata":{
    "datalore":{
     "node_id":"Eup5Y2WnPRVD34iHTzxFO1",
     "type":"CODE",
     "hide_input_from_viewers":true,
     "hide_output_from_viewers":true
    }
   }
  },
  {
   "cell_type":"markdown",
   "source":[
    "Jest to notebook zawierający **analizę** <span style=\"color:red; font-size:15pt\">ocen filmów<\/span> zawartych w plikach zewnętrznych."
   ],
   "attachments":{
    
   },
   "metadata":{
    "datalore":{
     "node_id":"RzWQwKkXzWxCnBcKqRoXKD",
     "type":"MD",
     "hide_input_from_viewers":true,
     "hide_output_from_viewers":true
    }
   }
  },
  {
   "cell_type":"code",
   "source":[
    "uname = ['user_id','gender','age','occupation','zip']\n",
    "users = pd.read_table('dane\/users.dat',sep='::',engine='python',header=None,names=uname)\n",
    "\n",
    "rname = ['user_id','movie_id','rating','timestamp']\n",
    "ratings = pd.read_table('dane\/ratings.dat',engine='python',sep='::',header=None,names=rname)\n",
    "\n",
    "mname = ['movie_id','title','genres']\n",
    "movies = pd.read_table('dane\/movies.dat',encoding='ISO-8859-1',engine='python',sep='::',header=None,names=mname)"
   ],
   "execution_count":4,
   "outputs":[
    
   ],
   "metadata":{
    "datalore":{
     "node_id":"rsUIUp7woSlO9ATWAIIAbW",
     "type":"CODE",
     "hide_input_from_viewers":true,
     "hide_output_from_viewers":true
    }
   }
  },
  {
   "cell_type":"code",
   "source":[
    "users[:5]"
   ],
   "execution_count":5,
   "outputs":[
    {
     "data":{
      "text\/html":[
       "<div>\n",
       "<style scoped>\n",
       "    .dataframe tbody tr th:only-of-type {\n",
       "        vertical-align: middle;\n",
       "    }\n",
       "\n",
       "    .dataframe tbody tr th {\n",
       "        vertical-align: top;\n",
       "    }\n",
       "\n",
       "    .dataframe thead th {\n",
       "        text-align: right;\n",
       "    }\n",
       "<\/style>\n",
       "<table border=\"1\" class=\"dataframe\">\n",
       "  <thead>\n",
       "    <tr style=\"text-align: right;\">\n",
       "      <th><\/th>\n",
       "      <th>user_id<\/th>\n",
       "      <th>gender<\/th>\n",
       "      <th>age<\/th>\n",
       "      <th>occupation<\/th>\n",
       "      <th>zip<\/th>\n",
       "    <\/tr>\n",
       "  <\/thead>\n",
       "  <tbody>\n",
       "    <tr>\n",
       "      <th>0<\/th>\n",
       "      <td>1<\/td>\n",
       "      <td>F<\/td>\n",
       "      <td>1<\/td>\n",
       "      <td>10<\/td>\n",
       "      <td>48067<\/td>\n",
       "    <\/tr>\n",
       "    <tr>\n",
       "      <th>1<\/th>\n",
       "      <td>2<\/td>\n",
       "      <td>M<\/td>\n",
       "      <td>56<\/td>\n",
       "      <td>16<\/td>\n",
       "      <td>70072<\/td>\n",
       "    <\/tr>\n",
       "    <tr>\n",
       "      <th>2<\/th>\n",
       "      <td>3<\/td>\n",
       "      <td>M<\/td>\n",
       "      <td>25<\/td>\n",
       "      <td>15<\/td>\n",
       "      <td>55117<\/td>\n",
       "    <\/tr>\n",
       "    <tr>\n",
       "      <th>3<\/th>\n",
       "      <td>4<\/td>\n",
       "      <td>M<\/td>\n",
       "      <td>45<\/td>\n",
       "      <td>7<\/td>\n",
       "      <td>02460<\/td>\n",
       "    <\/tr>\n",
       "    <tr>\n",
       "      <th>4<\/th>\n",
       "      <td>5<\/td>\n",
       "      <td>M<\/td>\n",
       "      <td>25<\/td>\n",
       "      <td>20<\/td>\n",
       "      <td>55455<\/td>\n",
       "    <\/tr>\n",
       "  <\/tbody>\n",
       "<\/table>\n",
       "<\/div>"
      ]
     },
     "metadata":{
      
     },
     "output_type":"display_data"
    }
   ],
   "metadata":{
    "datalore":{
     "node_id":"Lizp8VasVyAfNe1xu8A1so",
     "type":"CODE",
     "hide_input_from_viewers":true,
     "hide_output_from_viewers":true
    }
   }
  }
 ],
 "metadata":{
  "kernelspec":{
   "display_name":"Python",
   "language":"python",
   "name":"python"
  },
  "datalore":{
   "computation_mode":"JUPYTER",
   "package_manager":"pip",
   "base_environment":"default",
   "packages":[
    
   ],
   "report_row_ids":[
    
   ],
   "version":3
  }
 },
 "nbformat":4,
 "nbformat_minor":4
}